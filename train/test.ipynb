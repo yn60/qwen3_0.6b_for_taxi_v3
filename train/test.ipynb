{
  "nbformat": 4,
  "nbformat_minor": 0,
  "metadata": {
    "colab": {
      "provenance": [],
      "gpuType": "T4"
    },
    "kernelspec": {
      "name": "python3",
      "display_name": "Python 3"
    },
    "language_info": {
      "name": "python"
    },
    "accelerator": "GPU"
  },
  "cells": [
    {
      "cell_type": "code",
      "source": [
        "# 重启后运行这个完整验证\n",
        "import os\n",
        "import json\n",
        "import sys\n",
        "\n",
        "print(\"🎯 重启后完整验证三个核心文件\")\n",
        "print(\"=\"*50)\n",
        "\n",
        "# 1. 设置项目路径\n",
        "project_root = '/content/qwen3_0.6b_for_taxi_v3'\n",
        "sys.path.append(project_root)\n",
        "print(f\"🔧 项目路径: {project_root}\")\n",
        "\n",
        "# 2. 检查核心文件导入\n",
        "print(\"\\n📁 检查核心文件导入:\")\n",
        "try:\n",
        "    from backend.taxi.rl_agent import solve_taxi_v3_and_collect_data\n",
        "    print(\"  ✅ backend.taxi.rl_agent 导入成功\")\n",
        "\n",
        "    from run_pipeline import run_data_collection_and_explanation_pipeline\n",
        "    print(\"  ✅ run_pipeline 导入成功\")\n",
        "\n",
        "    from backend.llm.explanation_generator import generate_explanation_for_rl_steps\n",
        "    print(\"  ✅ backend.llm.explanation_generator 导入成功\")\n",
        "\n",
        "    print(\"✅ 所有核心文件导入成功\")\n",
        "\n",
        "except Exception as e:\n",
        "    print(f\"❌ 导入失败: {e}\")\n",
        "    exit()\n",
        "\n",
        "# 3. 运行数据收集测试\n",
        "print(\"\\n🚀 运行数据收集测试:\")\n",
        "try:\n",
        "    # 使用简化版本测试数据收集\n",
        "    def test_data_collection():\n",
        "        successful_episodes = solve_taxi_v3_and_collect_data()\n",
        "        print(f\"  ✅ 数据收集成功: {len(successful_episodes)} episodes\")\n",
        "\n",
        "        # 保存数据\n",
        "        output_dir = os.path.join(project_root, 'finetuning_data')\n",
        "        os.makedirs(output_dir, exist_ok=True)\n",
        "        output_file = os.path.join(output_dir, 'test_training_data.json')\n",
        "\n",
        "        with open(output_file, 'w') as f:\n",
        "            json.dump(successful_episodes, f, indent=2)\n",
        "\n",
        "        print(f\"  ✅ 训练数据保存到: {output_file}\")\n",
        "        return successful_episodes, output_file\n",
        "\n",
        "    episodes, file_path = test_data_collection()\n",
        "\n",
        "except Exception as e:\n",
        "    print(f\"❌ 数据收集失败: {e}\")\n",
        "    exit()\n",
        "\n",
        "# 4. 验证生成的文件\n",
        "print(\"\\n📁 验证生成的文件:\")\n",
        "if os.path.exists(file_path):\n",
        "    size_kb = os.path.getsize(file_path) / 1024\n",
        "    print(f\"  ✅ 训练数据文件存在: {file_path} ({size_kb:.1f} KB)\")\n",
        "\n",
        "    # 验证文件内容\n",
        "    try:\n",
        "        with open(file_path, 'r') as f:\n",
        "            data = json.load(f)\n",
        "        print(f\"  ✅ 文件内容有效: {len(data)} episodes\")\n",
        "\n",
        "        if data:\n",
        "            first_episode = data[0]\n",
        "            print(f\"  📊 样本数据:\")\n",
        "            print(f\"    - Episode: {first_episode['episode']}\")\n",
        "            print(f\"    - 总奖励: {first_episode['total_reward']}\")\n",
        "            print(f\"    - 步数: {len(first_episode['steps'])}\")\n",
        "\n",
        "    except Exception as e:\n",
        "        print(f\"  ❌ 文件内容验证失败: {e}\")\n",
        "else:\n",
        "    print(f\"  ❌ 训练数据文件不存在\")\n",
        "\n",
        "print(\"\\n\" + \"=\"*50)\n",
        "print(\"🎉 最终验证结果:\")\n",
        "print(\"✅ 三个核心文件可以正常导入\")\n",
        "print(\"✅ RL数据收集功能正常工作\")\n",
        "print(\"✅ 训练数据文件成功生成\")\n",
        "print(\"✅ 达到要求：可以收集训练数据\")\n",
        "print(\"=\"*50)"
      ],
      "metadata": {
        "colab": {
          "base_uri": "https://localhost:8080/"
        },
        "id": "6N54KXpcX-X1",
        "outputId": "4d29316e-c525-4c48-eed2-6e08605012ea"
      },
      "execution_count": 1,
      "outputs": [
        {
          "output_type": "stream",
          "name": "stdout",
          "text": [
            "🎯 重启后完整验证三个核心文件\n",
            "==================================================\n",
            "🔧 项目路径: /content/qwen3_0.6b_for_taxi_v3\n",
            "\n",
            "📁 检查核心文件导入:\n",
            "  ✅ backend.taxi.rl_agent 导入成功\n"
          ]
        },
        {
          "output_type": "stream",
          "name": "stderr",
          "text": [
            "/usr/local/lib/python3.12/dist-packages/huggingface_hub/utils/_auth.py:94: UserWarning: \n",
            "The secret `HF_TOKEN` does not exist in your Colab secrets.\n",
            "To authenticate with the Hugging Face Hub, create a token in your settings tab (https://huggingface.co/settings/tokens), set it as secret in your Google Colab and restart your session.\n",
            "You will be able to reuse this secret in all of your notebooks.\n",
            "Please note that authentication is recommended but still optional to access public models or datasets.\n",
            "  warnings.warn(\n",
            "`torch_dtype` is deprecated! Use `dtype` instead!\n"
          ]
        },
        {
          "output_type": "stream",
          "name": "stdout",
          "text": [
            "  ✅ run_pipeline 导入成功\n",
            "  ✅ backend.llm.explanation_generator 导入成功\n",
            "✅ 所有核心文件导入成功\n",
            "\n",
            "🚀 运行数据收集测试:\n",
            "  ✅ 数据收集成功: 1 episodes\n",
            "  ✅ 训练数据保存到: /content/qwen3_0.6b_for_taxi_v3/finetuning_data/test_training_data.json\n",
            "\n",
            "📁 验证生成的文件:\n",
            "  ✅ 训练数据文件存在: /content/qwen3_0.6b_for_taxi_v3/finetuning_data/test_training_data.json (20.0 KB)\n",
            "  ✅ 文件内容有效: 1 episodes\n",
            "  📊 样本数据:\n",
            "    - Episode: 6\n",
            "    - 总奖励: -374.0\n",
            "    - 步数: 89\n",
            "\n",
            "==================================================\n",
            "🎉 最终验证结果:\n",
            "✅ 三个核心文件可以正常导入\n",
            "✅ RL数据收集功能正常工作\n",
            "✅ 训练数据文件成功生成\n",
            "✅ 达到要求：可以收集训练数据\n",
            "==================================================\n"
          ]
        }
      ]
    },
    {
      "cell_type": "code",
      "source": [],
      "metadata": {
        "id": "fbiiIyezYKNH"
      },
      "execution_count": 1,
      "outputs": []
    }
  ]
}